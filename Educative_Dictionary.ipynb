{
 "cells": [
  {
   "cell_type": "markdown",
   "metadata": {},
   "source": [
    "Challenge 1: Determine Size of a Dictionary:\n",
    "\n",
    "Input#\n",
    "A dictionary\n",
    "\n",
    "Output#\n",
    "The size of the dictionary\n"
   ]
  },
  {
   "cell_type": "code",
   "execution_count": 1,
   "metadata": {},
   "outputs": [],
   "source": [
    "def lengthDictionary(Students):\n",
    "  return len(Students)"
   ]
  },
  {
   "cell_type": "code",
   "execution_count": 2,
   "metadata": {},
   "outputs": [
    {
     "name": "stdout",
     "output_type": "stream",
     "text": [
      "8\n"
     ]
    }
   ],
   "source": [
    "def lengthDictionary(Students):\n",
    "  return len(Students)\n",
    "Students = {\n",
    "     \"Peter\": 10,\n",
    "     \"Isabel\": 11,\n",
    "     \"Anna\": 9,\n",
    "     \"Thomas\": 10,\n",
    "     \"Bob\": 10,\n",
    "     \"Joseph\": 11,\n",
    "     \"Maria\": 12,\n",
    "     \"Gabriel\": 10,\n",
    "}\n",
    "print(lengthDictionary(Students))"
   ]
  },
  {
   "cell_type": "markdown",
   "metadata": {},
   "source": [
    "Challenge 2: Average of Values of Keys in a Dictionary:\n",
    "\n",
    "Input#\n",
    "A dictionary\n",
    "\n",
    "Output#\n",
    "The average age of all students in the dictionary"
   ]
  },
  {
   "cell_type": "code",
   "execution_count": 3,
   "metadata": {},
   "outputs": [],
   "source": [
    "def calculateAvg(ages):\n",
    "  a=len(ages)\n",
    "  avgAge=sum(ages.values())\n",
    "  return avgAge/a"
   ]
  },
  {
   "cell_type": "code",
   "execution_count": 4,
   "metadata": {},
   "outputs": [
    {
     "name": "stdout",
     "output_type": "stream",
     "text": [
      "10.375\n"
     ]
    }
   ],
   "source": [
    "def calculateAvg(ages):\n",
    "  length=len(ages)\n",
    "  return(sum(ages.values())/length)\n",
    "ages = {\n",
    "     \"Peter\": 10,\n",
    "     \"Isabel\": 11,\n",
    "     \"Anna\": 9,\n",
    "     \"Thomas\": 10,\n",
    "     \"Bob\": 10,\n",
    "     \"Joseph\": 11,\n",
    "     \"Maria\": 12,\n",
    "     \"Gabriel\": 10,\n",
    " }\n",
    "print(calculateAvg(ages))"
   ]
  },
  {
   "cell_type": "markdown",
   "metadata": {},
   "source": [
    "Challenge 3: Return Key With Maximum Value:\n",
    "\n",
    "Input#\n",
    "A dictionary\n",
    "\n",
    "Output#\n",
    "The key associated with highest age, i.e., the name of the oldest student"
   ]
  },
  {
   "cell_type": "code",
   "execution_count": null,
   "metadata": {},
   "outputs": [],
   "source": [
    "def oldestStudent(ages):\n",
    "  value=list(ages.values())\n",
    "  key=list(ages.keys())\n",
    "  return key[value.index (max(value))]"
   ]
  },
  {
   "cell_type": "code",
   "execution_count": 5,
   "metadata": {},
   "outputs": [
    {
     "name": "stdout",
     "output_type": "stream",
     "text": [
      "Maria\n"
     ]
    }
   ],
   "source": [
    "def oldestStudent(ages):\n",
    "  \n",
    "  value = list(ages.values())\n",
    "  key = list(ages.keys())\n",
    "  return key[value.index(max(value))]\n",
    "\n",
    "ages = {\n",
    "     \"Peter\": 10,\n",
    "     \"Isabel\": 11,\n",
    "     \"Anna\": 9,\n",
    "     \"Thomas\": 10,\n",
    "     \"Bob\": 10,\n",
    "     \"Joseph\": 11,\n",
    "     \"Maria\": 12,\n",
    "     \"Gabriel\": 10,\n",
    "  }\n",
    "print(oldestStudent(ages))"
   ]
  },
  {
   "cell_type": "markdown",
   "metadata": {},
   "source": [
    "Challenge 4: Increment Dictionary Values\n",
    "\n",
    "Input#\n",
    "A dictionary\n",
    "\n",
    "Output#\n",
    "Returns a copy of sorted ages where each student is n years older"
   ]
  },
  {
   "cell_type": "code",
   "execution_count": 1,
   "metadata": {},
   "outputs": [],
   "source": [
    "def updateAges(ages, n):\n",
    "  agesNew={}\n",
    "  for word in ages:\n",
    "    agesNew[word]=ages[word] + n\n",
    "  return agesNew"
   ]
  },
  {
   "cell_type": "code",
   "execution_count": null,
   "metadata": {},
   "outputs": [],
   "source": [
    "def updateAges(ages, n):\n",
    "  new_ages = {}\n",
    "  for word in ages:\n",
    "    new_ages[word] = ages[word] + n\n",
    "  return new_ages\n",
    "ages = {\n",
    "      \"Peter\": 10,\n",
    "      \"Isabel\": 11,\n",
    "      \"Anna\": 9,\n",
    "      \"Thomas\": 10,\n",
    "      \"Bob\": 10,\n",
    "      \"Joseph\": 11,\n",
    "      \"Maria\": 12,\n",
    "      \"Gabriel\": 10,\n",
    "   }\n",
    "new_ages = updateAges(ages, 10)\n",
    "print(new_ages)"
   ]
  },
  {
   "cell_type": "markdown",
   "metadata": {},
   "source": [
    "Challenge 5: Size of a Dictionary Within a Dictionary\n",
    "\n",
    "Input#\n",
    "A nested dictionary\n",
    "\n",
    "Output#\n",
    "The size of the nested dictionary"
   ]
  },
  {
   "cell_type": "code",
   "execution_count": null,
   "metadata": {},
   "outputs": [],
   "source": [
    "def totalStudents(students):\n",
    "  return len(students)"
   ]
  },
  {
   "cell_type": "code",
   "execution_count": null,
   "metadata": {},
   "outputs": [],
   "source": [
    "def totalStudents(students):\n",
    "  return(len(students.keys()))\n",
    "\n",
    "students = {\n",
    "      \"Peter\": {\"age\": 10, \"address\": \"Lisbon\"},\n",
    "      \"Isabel\": {\"age\": 11, \"address\": \"Sesimbra\"},\n",
    "      \"Anna\": {\"age\": 9, \"address\": \"Lisbon\"},\n",
    "}\n",
    "print(totalStudents(students))"
   ]
  },
  {
   "cell_type": "markdown",
   "metadata": {},
   "source": [
    "Challenge 6: Average Values Within Multiple Dictionaries\n",
    "\n",
    "Input#\n",
    "A nested dictionary\n",
    "\n",
    "Output#\n",
    "The average age of students"
   ]
  },
  {
   "cell_type": "code",
   "execution_count": null,
   "metadata": {},
   "outputs": [],
   "source": [
    "def calculateAverageAge(students):\n",
    "  a= len(students)\n",
    "  addAge=0\n",
    "  for thing in students.values():\n",
    "    age= thing['age']\n",
    "    addAge=addAge+age\n",
    "  return addAge/a  "
   ]
  },
  {
   "cell_type": "code",
   "execution_count": null,
   "metadata": {},
   "outputs": [],
   "source": [
    "def calculateAverageAge(students):\n",
    "  add_age = 0\n",
    "  for thing in students.values():\n",
    "      age = thing['age']\n",
    "      add_age = add_age + age\n",
    "    \n",
    "  return(add_age / len(students.keys()))\n",
    "\n",
    "students = {\n",
    "      \"Peter\": {\"age\": 10, \"address\": \"Lisbon\"},\n",
    "      \"Isabel\": {\"age\": 11, \"address\": \"Sesimbra\"},\n",
    "      \"Anna\": {\"age\": 9, \"address\": \"Lisbon\"},\n",
    "      \"Gibrael\": {\"age\": 10, \"address\": \"Sesimbra\"},\n",
    "      \"Susan\": {\"age\": 11, \"address\": \"Lisbon\"},\n",
    "      \"Charles\": {\"age\": 9, \"address\": \"Sesimbra\"},\n",
    "  }\n",
    "print(calculateAverageAge(students))"
   ]
  },
  {
   "cell_type": "markdown",
   "metadata": {},
   "source": [
    "Challenge 7: Keys Matching in Multiple Dictionaries\n",
    "\n",
    "Input#\n",
    "A nested dictionary students and address\n",
    "\n",
    "Output#\n",
    "The keys matching the address in the sorted order, i.e., the name of the students living in a particular area"
   ]
  },
  {
   "cell_type": "code",
   "execution_count": 1,
   "metadata": {},
   "outputs": [],
   "source": [
    "def find_students(address, students):\n",
    "  names = []\n",
    "  for key, subdict in students.items():\n",
    "       for sublist in subdict.values():\n",
    "          if (sublist == address):\n",
    "             names.append(key)\n",
    "              \n",
    "  return sorted(names)"
   ]
  },
  {
   "cell_type": "code",
   "execution_count": null,
   "metadata": {},
   "outputs": [],
   "source": []
  }
 ],
 "metadata": {
  "interpreter": {
   "hash": "49fdda9a8f1b43ecf94cbf6adfec0c9149aed4e40f425dad389976f3db3c5b4b"
  },
  "kernelspec": {
   "display_name": "Python 3.10.1 64-bit",
   "language": "python",
   "name": "python3"
  },
  "language_info": {
   "codemirror_mode": {
    "name": "ipython",
    "version": 3
   },
   "file_extension": ".py",
   "mimetype": "text/x-python",
   "name": "python",
   "nbconvert_exporter": "python",
   "pygments_lexer": "ipython3",
   "version": "3.10.4"
  },
  "orig_nbformat": 4
 },
 "nbformat": 4,
 "nbformat_minor": 2
}
