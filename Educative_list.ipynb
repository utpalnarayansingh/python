{
 "cells": [
  {
   "cell_type": "markdown",
   "metadata": {},
   "source": [
    "Challenge 1: Sublist of a List:\n",
    "\n",
    "Input#\n",
    "A list\n",
    "\n",
    "Output#\n",
    "Two sublists"
   ]
  },
  {
   "cell_type": "code",
   "execution_count": 1,
   "metadata": {},
   "outputs": [
    {
     "name": "stdout",
     "output_type": "stream",
     "text": [
      "[1, 4, 9]\n",
      "[10, 23]\n"
     ]
    }
   ],
   "source": [
    "def getSubList():\n",
    "  l = [1, 4, 9, 10, 23]\n",
    "  l1 = l[:3]\n",
    "  l2 = l[3:5] ## Write your code here \n",
    "\n",
    "  return [l1, l2]  ## Alter the return statement to return your sublists\n",
    "[l1, l2] = getSubList()\n",
    "print(l1)\n",
    "print(l2)"
   ]
  },
  {
   "cell_type": "code",
   "execution_count": 2,
   "metadata": {},
   "outputs": [
    {
     "name": "stdout",
     "output_type": "stream",
     "text": [
      "[1, 4, 9]\n",
      "[10, 23]\n"
     ]
    }
   ],
   "source": [
    "def getSubList():\n",
    "  l = [1, 4, 9, 10, 23]\n",
    "  l1 = l[0:3] # sublist from index 0 to 3\n",
    "  l2 = l[3:] # sublist from 3 uptil end\n",
    "  return [l1, l2]\n",
    "[l1, l2] = getSubList()\n",
    "print(l1)\n",
    "print(l2)"
   ]
  },
  {
   "cell_type": "markdown",
   "metadata": {},
   "source": [
    "Challenge 2: Appending Value to the End of a List:\n",
    "\n",
    "Input#\n",
    "A list of numbers\n",
    "\n",
    "Output#\n",
    "Append the value 90 to the end of the list l"
   ]
  },
  {
   "cell_type": "code",
   "execution_count": 5,
   "metadata": {},
   "outputs": [
    {
     "name": "stdout",
     "output_type": "stream",
     "text": [
      "[1, 4, 9, 10, 23, 90]\n"
     ]
    }
   ],
   "source": [
    "def AppendtoList():\n",
    "  l = [1, 4, 9, 10, 23]\n",
    "  # Write your code here \n",
    "  l1 = [90]\n",
    "  l = l + l1\n",
    "  return l\n",
    "l = AppendtoList()\n",
    "print(l)"
   ]
  },
  {
   "cell_type": "code",
   "execution_count": 3,
   "metadata": {},
   "outputs": [
    {
     "name": "stdout",
     "output_type": "stream",
     "text": [
      "[1, 4, 9, 10, 23, 90]\n"
     ]
    }
   ],
   "source": [
    "def AppendtoList():\n",
    "  l = [1, 4, 9, 10, 23] \n",
    "  l.append(90)\n",
    "  return l\n",
    "l = AppendtoList()\n",
    "print(l)"
   ]
  },
  {
   "cell_type": "code",
   "execution_count": 4,
   "metadata": {},
   "outputs": [
    {
     "name": "stdout",
     "output_type": "stream",
     "text": [
      "[1, 4, 9, 10, 23]\n",
      "[1, 4, 9, 10, 23, 90]\n"
     ]
    }
   ],
   "source": [
    "l1 = [1, 4, 9, 10, 23]\n",
    "print(l1)\n",
    "l1 = l1 + [90]\n",
    "print(l1)"
   ]
  },
  {
   "cell_type": "markdown",
   "metadata": {},
   "source": [
    "Challenge 3: Averaging Values in a List:\n",
    "\n",
    "Input#\n",
    "A list of integers\n",
    "\n",
    "Output#\n",
    "An average of values in the list"
   ]
  },
  {
   "cell_type": "code",
   "execution_count": 8,
   "metadata": {},
   "outputs": [
    {
     "name": "stdout",
     "output_type": "stream",
     "text": [
      "9.4\n"
     ]
    }
   ],
   "source": [
    "def getAverage():\n",
    "  l1 = [1, 4, 9, 10, 23]\n",
    "  ## Write your code here\n",
    "  sum = 0\n",
    "  for i in range (len(l1)):\n",
    "    sum = sum + l1[i]\n",
    "  avg = sum/len(l1)\n",
    " ## Calculate the average here\n",
    "  return avg\n",
    "\n",
    "avg = getAverage()\n",
    "print(avg)"
   ]
  },
  {
   "cell_type": "code",
   "execution_count": 7,
   "metadata": {},
   "outputs": [
    {
     "name": "stdout",
     "output_type": "stream",
     "text": [
      "9.4\n"
     ]
    }
   ],
   "source": [
    "def getAverage():\n",
    "  l1 = [1, 4, 9, 10, 23]\n",
    "  avg = sum(l1)/len(l1)  \n",
    "  return avg\n",
    "  \n",
    "avg = getAverage()\n",
    "print(avg)"
   ]
  },
  {
   "cell_type": "markdown",
   "metadata": {},
   "source": [
    "Challenge 4: Remove Sublist From List:\n",
    "\n",
    "Input#\n",
    "A list\n",
    "\n",
    "Output#\n",
    "The updated list after the sublist has been removed"
   ]
  },
  {
   "cell_type": "code",
   "execution_count": 9,
   "metadata": {},
   "outputs": [
    {
     "name": "stdout",
     "output_type": "stream",
     "text": [
      "[1, 10, 23]\n"
     ]
    }
   ],
   "source": [
    "def removeList():\n",
    "  l1 = [1, 4, 9, 10, 23]\n",
    "  l2 = [4, 9]\n",
    "  ## Write your code here\n",
    "  l1.remove(l2[0])\n",
    "  l1.remove(l2[1])\n",
    "  return l1\n",
    "\n",
    "l1 = removeList()\n",
    "print(l1)"
   ]
  },
  {
   "cell_type": "code",
   "execution_count": 10,
   "metadata": {},
   "outputs": [
    {
     "name": "stdout",
     "output_type": "stream",
     "text": [
      "[1, 10, 23]\n"
     ]
    }
   ],
   "source": [
    "def removeList():\n",
    "  l1 = [1, 4, 9, 10, 23]\n",
    "  l2 = [4, 9]\n",
    "  l1.remove(l2[0])\n",
    "  l1.remove(l2[1])\n",
    "  return l1\n",
    "\n",
    "l1 = removeList()\n",
    "print(l1)"
   ]
  },
  {
   "cell_type": "code",
   "execution_count": null,
   "metadata": {},
   "outputs": [],
   "source": [
    "def removeList():\n",
    "  \n",
    "  l1 = [1, 4, 9, 10, 23]\n",
    "  l2 = [4, 9]\n",
    "  for elem in l2:\n",
    "    l1.remove(elem)\n",
    "  return l1\n",
    "\n",
    "l1 = removeList()\n",
    "print(l1)"
   ]
  },
  {
   "cell_type": "markdown",
   "metadata": {},
   "source": [
    "Challenge 5: List of Squares:\n",
    "\n",
    "Input#\n",
    "An empty list\n",
    "\n",
    "Output#\n",
    "An updated list with the square of each value in the list"
   ]
  },
  {
   "cell_type": "code",
   "execution_count": null,
   "metadata": {},
   "outputs": [],
   "source": [
    "def getSquare():\n",
    "  ## Write your code here\n",
    "  l1 = [] ## Create your list here\n",
    "  return l1\n",
    "l1 = getSquare()\n",
    "print(l1)"
   ]
  },
  {
   "cell_type": "code",
   "execution_count": null,
   "metadata": {},
   "outputs": [],
   "source": [
    "def getSquare():\n",
    "  l1 = [x*x for x in range(1, 11)]\n",
    "  return l1\n",
    "l1 = getSquare()\n",
    "print(l1)"
   ]
  },
  {
   "cell_type": "markdown",
   "metadata": {},
   "source": [
    "Challenge 6: List of Cubes:\n",
    "\n",
    "Input#\n",
    "An empty list\n",
    "\n",
    "Output#\n",
    "An updated list with the cube of each value in the list"
   ]
  },
  {
   "cell_type": "code",
   "execution_count": null,
   "metadata": {},
   "outputs": [],
   "source": [
    "def getCube():\n",
    "  ## Write your code here \n",
    "  l1 = [x**3 for x in range(1,21)] ## Make the list here\n",
    "  return l1\n",
    "l1 = getCube()\n",
    "print(l1)"
   ]
  },
  {
   "cell_type": "code",
   "execution_count": null,
   "metadata": {},
   "outputs": [],
   "source": [
    "def getCube():\n",
    "  l1 = [x*x*x for x in range(1, 21)]\n",
    "  return l1\n",
    "l1 = getCube()\n",
    "print(l1)"
   ]
  },
  {
   "cell_type": "code",
   "execution_count": null,
   "metadata": {},
   "outputs": [],
   "source": [
    "def getCube():\n",
    "  l1 = [x**3 for x in range(1,21)]\n",
    "  return l1\n",
    "\n",
    "l1 = getCube()\n",
    "print(l1)"
   ]
  },
  {
   "cell_type": "markdown",
   "metadata": {},
   "source": [
    "Challenge 7: Lists of Even and Odd Numbers:\n",
    "\n",
    "Input#\n",
    "Two empty lists\n",
    "\n",
    "Output#\n",
    "List 1 with even numbers\n",
    "\n",
    "List 2 with odd numbers"
   ]
  },
  {
   "cell_type": "code",
   "execution_count": null,
   "metadata": {},
   "outputs": [],
   "source": [
    "def ListofEvenOdds():\n",
    "  l1 = [x for x in range (21) if x%2==0] # list of even numbers\n",
    "  l2 = [x for x in range (21) if x%2 !=0] # list of odd numbers \n",
    "  return [l1, l2]\n",
    "\n",
    "print(ListofEvenOdds())"
   ]
  },
  {
   "cell_type": "code",
   "execution_count": null,
   "metadata": {},
   "outputs": [],
   "source": [
    "def ListofEvenOdds():\n",
    "  l1 = []\n",
    "  l2 = []  \n",
    "  l1 = [x for x in range(0, 21) if (x % 2 == 0)]\n",
    "  l2 = [x for x in range(0, 21) if (x % 2 != 0)]\n",
    "  return[l1, l2]\n",
    "  \n",
    "print(ListofEvenOdds())"
   ]
  },
  {
   "cell_type": "code",
   "execution_count": null,
   "metadata": {},
   "outputs": [],
   "source": [
    "def ListofEvenOdds():\n",
    "  l1 = []\n",
    "  l2 = []  \n",
    "  l1 = [x for x in range(0, 21) if (x % 2 == 0)]\n",
    "  l2 = [x for x in range(0, 21) if (x not in l1)]\n",
    "  return[l1, l2]\n",
    "  \n",
    "print(ListofEvenOdds())"
   ]
  },
  {
   "cell_type": "markdown",
   "metadata": {},
   "source": [
    "Challenge 8: Sum of Squares of Even Numbers:\n",
    "\n",
    "Input#\n",
    "A list with the square of even numbers from 0-20\n",
    "\n",
    "Output#\n",
    "The sum of the numbers in the list"
   ]
  },
  {
   "cell_type": "code",
   "execution_count": 11,
   "metadata": {},
   "outputs": [
    {
     "name": "stdout",
     "output_type": "stream",
     "text": [
      "1540\n"
     ]
    }
   ],
   "source": [
    "def evenSquareSum():\n",
    "  #write code here\n",
    "  l1 = 0\n",
    "  l2 = [x*x for x in range (21) if x%2 == 0]\n",
    "  for i in range(len(l2)):\n",
    "    l1 = l1+ l2[i]\n",
    "  return l1\n",
    "\n",
    "print(evenSquareSum())"
   ]
  },
  {
   "cell_type": "code",
   "execution_count": 12,
   "metadata": {},
   "outputs": [
    {
     "name": "stdout",
     "output_type": "stream",
     "text": [
      "1540\n"
     ]
    }
   ],
   "source": [
    "def evenSquareSum():\n",
    "  even = [x * x for x in range(0, 21, 2)]\n",
    "  return sum(even)\n",
    "  \n",
    "print(evenSquareSum())"
   ]
  },
  {
   "cell_type": "markdown",
   "metadata": {},
   "source": [
    "Challenge 9: Even Squares Not Divisible By Three\n",
    "\n",
    "Input#\n",
    "An empty list\n",
    "\n",
    "Output#\n",
    "A list with the square of all even numbers not divisible by 3."
   ]
  },
  {
   "cell_type": "code",
   "execution_count": 3,
   "metadata": {},
   "outputs": [
    {
     "name": "stdout",
     "output_type": "stream",
     "text": [
      "[4, 16, 64, 100, 196, 256, 400]\n"
     ]
    }
   ],
   "source": [
    "def getSquare():\n",
    "  ##Write your code here\n",
    "  l1 = [x**2 for x in range (21) if x % 3 != 0 and x%2 == 0]\n",
    "  return l1\n",
    "\n",
    "print(getSquare())"
   ]
  },
  {
   "cell_type": "code",
   "execution_count": 2,
   "metadata": {},
   "outputs": [
    {
     "name": "stdout",
     "output_type": "stream",
     "text": [
      "[4, 16, 64, 100, 196, 256, 400]\n"
     ]
    }
   ],
   "source": [
    "def getSquare():\n",
    "  l1 = [x*x for x in range(0, 21, 2) if x % 3 != 0]\n",
    "  return l1\n",
    "  \n",
    "print(getSquare())"
   ]
  }
 ],
 "metadata": {
  "interpreter": {
   "hash": "49fdda9a8f1b43ecf94cbf6adfec0c9149aed4e40f425dad389976f3db3c5b4b"
  },
  "kernelspec": {
   "display_name": "Python 3.10.1 64-bit",
   "language": "python",
   "name": "python3"
  },
  "language_info": {
   "codemirror_mode": {
    "name": "ipython",
    "version": 3
   },
   "file_extension": ".py",
   "mimetype": "text/x-python",
   "name": "python",
   "nbconvert_exporter": "python",
   "pygments_lexer": "ipython3",
   "version": "3.10.1"
  },
  "orig_nbformat": 4
 },
 "nbformat": 4,
 "nbformat_minor": 2
}
