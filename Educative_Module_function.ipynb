{
 "cells": [
  {
   "cell_type": "markdown",
   "metadata": {},
   "source": [
    "to print in same line"
   ]
  },
  {
   "cell_type": "code",
   "execution_count": 2,
   "metadata": {},
   "outputs": [
    {
     "name": "stdout",
     "output_type": "stream",
     "text": [
      "Hello World\n"
     ]
    }
   ],
   "source": [
    "def do_hello():\n",
    "  print(\"Hello\",end=' ')\n",
    "  print(\"World\")\n",
    "do_hello()"
   ]
  },
  {
   "cell_type": "markdown",
   "metadata": {},
   "source": [
    "Input#\n",
    "Two numbers\n",
    "\n",
    "Output#\n",
    "GCD of numbers"
   ]
  },
  {
   "cell_type": "code",
   "execution_count": 3,
   "metadata": {},
   "outputs": [
    {
     "name": "stdout",
     "output_type": "stream",
     "text": [
      "6\n"
     ]
    }
   ],
   "source": [
    "import math \n",
    "## Write your function here\n",
    "def findGCD(a, b):\n",
    "  if b>=a:\n",
    "    for x in range (1,b):\n",
    "      if a % x == 0:\n",
    "        if b % x == 0:\n",
    "          gcd = x\n",
    "  else:\n",
    "    for x in range (1,a):\n",
    "      if b % x == 0:\n",
    "        if a % x == 0:\n",
    "          gcd = x\n",
    "  return gcd\n",
    "\n",
    "print(findGCD(24, 18))"
   ]
  },
  {
   "cell_type": "code",
   "execution_count": 4,
   "metadata": {},
   "outputs": [
    {
     "name": "stdout",
     "output_type": "stream",
     "text": [
      "6\n"
     ]
    }
   ],
   "source": [
    "import math \n",
    "def findGCD(a, b): \n",
    "  return math.gcd(a, b)\n",
    "print(findGCD(24, 18))"
   ]
  },
  {
   "cell_type": "markdown",
   "metadata": {},
   "source": [
    "Input#\n",
    "A number\n",
    "\n",
    "Output#\n",
    "Calculate the sine, cosine, and tangent of that number"
   ]
  },
  {
   "cell_type": "code",
   "execution_count": 7,
   "metadata": {},
   "outputs": [
    {
     "name": "stdout",
     "output_type": "stream",
     "text": [
      "sine, cos, tan: [-0.8414709848078965, 0.5403023058681398, -1.5574077246549023]\n"
     ]
    }
   ],
   "source": [
    "import math\n",
    "def calculateSinCosTan(x):\n",
    "  #write your function here\n",
    "  sine = math.sin(x)\n",
    "  cos = math.cos(x)\n",
    "  tan = math.tan(x) \n",
    "  return [sine, cos, tan]\n",
    "\n",
    "print(\"sine, cos, tan:\", calculateSinCosTan(-1))"
   ]
  },
  {
   "cell_type": "code",
   "execution_count": 6,
   "metadata": {},
   "outputs": [
    {
     "name": "stdout",
     "output_type": "stream",
     "text": [
      "sine, cos, tan: [-0.8414709848078965, 0.5403023058681398, -1.5574077246549023]\n",
      "sine, cos, tan: [0.0, 1.0, 0.0]\n",
      "sine, cos, tan: [0.8414709848078965, 0.5403023058681398, 1.5574077246549023]\n"
     ]
    }
   ],
   "source": [
    "import math\n",
    "def calculateSinCosTan(x):\n",
    "  sine = math.sin(x)\n",
    "  cos = math.cos(x)\n",
    "  tan = math.tan(x)\n",
    "  return [sine, cos, tan]\n",
    "\n",
    "print(\"sine, cos, tan:\", calculateSinCosTan(-1))\n",
    "print(\"sine, cos, tan:\", calculateSinCosTan(0))\n",
    "print(\"sine, cos, tan:\", calculateSinCosTan(1))"
   ]
  },
  {
   "cell_type": "markdown",
   "metadata": {},
   "source": [
    "Input#\n",
    "Two numbers x and y\n",
    "\n",
    "Output#\n",
    "The maximum of two numbers x and y"
   ]
  },
  {
   "cell_type": "code",
   "execution_count": 9,
   "metadata": {},
   "outputs": [
    {
     "name": "stdout",
     "output_type": "stream",
     "text": [
      "3\n"
     ]
    }
   ],
   "source": [
    "def findMaximum(x, y):\n",
    "     if x>y:\n",
    "          z = x\n",
    "     elif y>x:\n",
    "          z = y\n",
    "     return z\n",
    "print(findMaximum(2, 3))"
   ]
  },
  {
   "cell_type": "code",
   "execution_count": 8,
   "metadata": {},
   "outputs": [
    {
     "name": "stdout",
     "output_type": "stream",
     "text": [
      "3\n"
     ]
    }
   ],
   "source": [
    "def findMaximum(x, y):\n",
    "  max2 = max(x, y) \n",
    "  return max2 \n",
    "print(findMaximum(2, 3))"
   ]
  },
  {
   "cell_type": "markdown",
   "metadata": {},
   "source": [
    "Input#\n",
    "Two numbers x and y\n",
    "\n",
    "Output#\n",
    "Returns true if x is divisible by y and false otherwise"
   ]
  },
  {
   "cell_type": "code",
   "execution_count": 10,
   "metadata": {},
   "outputs": [
    {
     "name": "stdout",
     "output_type": "stream",
     "text": [
      "True\n"
     ]
    }
   ],
   "source": [
    "def isDivisble(x, y):\n",
    "  if (x%y == 0):\n",
    "    z = True\n",
    "  else:\n",
    "    z = False\n",
    "  return z\n",
    "print(isDivisble(24, 4))"
   ]
  },
  {
   "cell_type": "code",
   "execution_count": 13,
   "metadata": {},
   "outputs": [
    {
     "name": "stdout",
     "output_type": "stream",
     "text": [
      "True\n",
      "False\n"
     ]
    }
   ],
   "source": [
    "def isDivisble(x,y):\n",
    "  if  x % y == 0:\n",
    "    return True\n",
    "  else :\n",
    "    return False\n",
    "    \n",
    "print(isDivisble(24, 4))\n",
    "print(isDivisble(24, 7))"
   ]
  },
  {
   "cell_type": "markdown",
   "metadata": {},
   "source": [
    "Challenge 5: Compute nth Fibonacci Number:\n",
    "\n",
    "Input#\n",
    "An integer\n",
    "\n",
    "Output#\n",
    "nth fibonacci term"
   ]
  },
  {
   "cell_type": "code",
   "execution_count": 15,
   "metadata": {},
   "outputs": [
    {
     "name": "stdout",
     "output_type": "stream",
     "text": [
      "3\n"
     ]
    }
   ],
   "source": [
    "def fibonacci(n):\n",
    "   if n<=1:\n",
    "      return n\n",
    "   else:\n",
    "      return (fibonacci(n-1)+fibonacci(n-2)) \n",
    "print(fibonacci(4))  "
   ]
  },
  {
   "cell_type": "code",
   "execution_count": 14,
   "metadata": {},
   "outputs": [
    {
     "name": "stdout",
     "output_type": "stream",
     "text": [
      "3\n"
     ]
    }
   ],
   "source": [
    "def fibonacci(n):\n",
    "  if n <= 1:\n",
    "       return n\n",
    "  else:\n",
    "       return(fibonacci(n-1) + fibonacci(n-2))\n",
    "print(fibonacci(4))    \n",
    "    "
   ]
  },
  {
   "cell_type": "markdown",
   "metadata": {},
   "source": [
    "Challenge 6: Compute Sum of First 'n' Natural Numbers:\n",
    "\n",
    "Input#\n",
    "A natural number n\n",
    "\n",
    "Output#\n",
    "The sum of all numbers from 1 upto that input natural number n"
   ]
  },
  {
   "cell_type": "code",
   "execution_count": 17,
   "metadata": {},
   "outputs": [
    {
     "name": "stdout",
     "output_type": "stream",
     "text": [
      "15\n"
     ]
    }
   ],
   "source": [
    "def sum_N_Numbers (n):\n",
    "  sum2=0\n",
    "  for i in range (n,0,-1):\n",
    "    sum2 = sum2 + i\n",
    "  return sum2\n",
    "\n",
    "print(sum_N_Numbers(5))"
   ]
  },
  {
   "cell_type": "code",
   "execution_count": 18,
   "metadata": {},
   "outputs": [
    {
     "name": "stdout",
     "output_type": "stream",
     "text": [
      "invalid user_input\n",
      "None\n"
     ]
    }
   ],
   "source": [
    "def sum_N_Numbers (n):\n",
    "  if n==1:\n",
    "    return n\n",
    "  elif n>=2:\n",
    "    return n + sum_N_Numbers (n-1)\n",
    "  else:\n",
    "    return print('invalid user_input')\n",
    "print(sum_N_Numbers(-5))"
   ]
  }
 ],
 "metadata": {
  "interpreter": {
   "hash": "49fdda9a8f1b43ecf94cbf6adfec0c9149aed4e40f425dad389976f3db3c5b4b"
  },
  "kernelspec": {
   "display_name": "Python 3.10.1 64-bit",
   "language": "python",
   "name": "python3"
  },
  "language_info": {
   "codemirror_mode": {
    "name": "ipython",
    "version": 3
   },
   "file_extension": ".py",
   "mimetype": "text/x-python",
   "name": "python",
   "nbconvert_exporter": "python",
   "pygments_lexer": "ipython3",
   "version": "3.10.1"
  },
  "orig_nbformat": 4
 },
 "nbformat": 4,
 "nbformat_minor": 2
}
