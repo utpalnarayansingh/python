{
 "cells": [
  {
   "cell_type": "markdown",
   "metadata": {},
   "source": [
    "Input#\n",
    "A list\n",
    "\n",
    "Output#\n",
    "Sum of elements in the list"
   ]
  },
  {
   "cell_type": "code",
   "execution_count": 3,
   "metadata": {},
   "outputs": [
    {
     "name": "stdout",
     "output_type": "stream",
     "text": [
      "15\n"
     ]
    }
   ],
   "source": [
    "def sumList(l):\n",
    "    s=0\n",
    "    for i in range (len(l)):\n",
    "        s=s+l[i]\n",
    "    return s\n",
    "\n",
    "l = [1, 2, 3, 4, 5]\n",
    "print(sumList(l))"
   ]
  },
  {
   "cell_type": "code",
   "execution_count": 2,
   "metadata": {},
   "outputs": [
    {
     "name": "stdout",
     "output_type": "stream",
     "text": [
      "15\n"
     ]
    }
   ],
   "source": [
    "def sumList(l):\n",
    "    sum = 0\n",
    "    for x in l:\n",
    "        sum += x\n",
    "    return sum\n",
    "l = [1, 2, 3, 4, 5]\n",
    "print(sumList(l))"
   ]
  },
  {
   "cell_type": "markdown",
   "metadata": {},
   "source": [
    "Problem Statement 1:\n",
    "\n",
    "Input#\n",
    "A list\n",
    "\n",
    "Output#\n",
    "Maximum number in the list"
   ]
  },
  {
   "cell_type": "code",
   "execution_count": null,
   "metadata": {},
   "outputs": [],
   "source": [
    "def findMaximum(list):\n",
    "    max = list[0]\n",
    "    for i in range (1,len(list)):\n",
    "        if (max < list[i]):\n",
    "            max = list[i]\n",
    "    return max"
   ]
  },
  {
   "cell_type": "code",
   "execution_count": null,
   "metadata": {},
   "outputs": [],
   "source": [
    "def findMaximum(list):\n",
    "    \n",
    "    maximum = list[0]\n",
    "    for x in list:\n",
    "      if x > maximum:\n",
    "          maximum = x\n",
    "    return maximum\n",
    "\n",
    "list=[1, 2, 7, 4, 5]\n",
    "\n",
    "print(findMaximum(list))"
   ]
  },
  {
   "cell_type": "markdown",
   "metadata": {},
   "source": [
    "Problem Statement 2:\n",
    "\n",
    "Input#\n",
    "A list\n",
    "\n",
    "Output#\n",
    "Maximum number and index of the number in the list"
   ]
  },
  {
   "cell_type": "code",
   "execution_count": 10,
   "metadata": {},
   "outputs": [
    {
     "name": "stdout",
     "output_type": "stream",
     "text": [
      "Index: 0\n",
      "Maximum Value: 9\n"
     ]
    }
   ],
   "source": [
    "def findMaximumValueIndex(list):\n",
    "    max = list[0]\n",
    "    index=0\n",
    "    for i in range (1,len(list)):\n",
    "        if (max <= list[i]):\n",
    "            index = i\n",
    "    return [index, list[index]]\n",
    "  # return [index,maximum] #return your index and maximum in the form of a list\n",
    "list = [9, 2, 7, 4, 5]    \n",
    "[index, maximum] = findMaximumValueIndex(list)\n",
    "\n",
    "print(\"Index:\", index)\n",
    "print(\"Maximum Value:\", maximum)"
   ]
  },
  {
   "cell_type": "code",
   "execution_count": null,
   "metadata": {},
   "outputs": [],
   "source": [
    "def findMaximumValueIndex(list):\n",
    "    maximum = list[0]\n",
    "    index = 0\n",
    "    for i, value in enumerate(list):\n",
    "        if value > maximum:\n",
    "          maximum = value \n",
    "          index = i\n",
    "    return [index, maximum]\n",
    "\n",
    "list = [1, 2, 7, 4, 5]    \n",
    "[index, maximum] = findMaximumValueIndex(list)\n",
    "\n",
    "print(\"Index:\", index)\n",
    "print(\"Maximum Value:\", maximum)"
   ]
  },
  {
   "cell_type": "markdown",
   "metadata": {},
   "source": [
    "Challenge 3: Reverse a List:\n",
    "\n",
    "Input#\n",
    "A list\n",
    "\n",
    "Output#\n",
    "The reverse of a list"
   ]
  },
  {
   "cell_type": "code",
   "execution_count": null,
   "metadata": {},
   "outputs": [],
   "source": [
    "def reverse(list):\n",
    "  j=len(list)\n",
    "  list2=[]\n",
    "  for i in range (j-1,-1,-1):\n",
    "      list2.append(list[i])\n",
    "  return list2\n",
    "  # return new_list # uncomment this line when you write code"
   ]
  },
  {
   "cell_type": "code",
   "execution_count": 14,
   "metadata": {},
   "outputs": [
    {
     "name": "stdout",
     "output_type": "stream",
     "text": [
      "[5, 4, 3, 2, 1]\n"
     ]
    }
   ],
   "source": [
    "def reverse(list):\n",
    "    length = len(list)\n",
    "    s = length\n",
    "\n",
    "    new_list = [None]*length\n",
    "\n",
    "    for item in list:\n",
    "        s = s - 1\n",
    "        new_list[s] = item\n",
    "    return new_list\n",
    "    \n",
    "list=[1, 2, 3, 4, 5]\n",
    "print(reverse(list))"
   ]
  },
  {
   "cell_type": "markdown",
   "metadata": {},
   "source": [
    "Challenge 4: Check If List Is Sorted:\n",
    "\n",
    "Input#\n",
    "A list\n",
    "\n",
    "Output#\n",
    "True if the list is sorted and False otherwise"
   ]
  },
  {
   "cell_type": "code",
   "execution_count": null,
   "metadata": {},
   "outputs": [],
   "source": [
    "def isSorted(list):\n",
    "  # write your code here\n",
    "  for i in range(len(list)-1):\n",
    "    if list[i]<= list[i+1]:\n",
    "      output = True\n",
    "    else:\n",
    "      output = False\n",
    "      break\n",
    "  return output"
   ]
  },
  {
   "cell_type": "code",
   "execution_count": null,
   "metadata": {},
   "outputs": [],
   "source": [
    "def isSorted(list):\n",
    "  flag = 0\n",
    "  i = 1\n",
    "  while i < len(list): \n",
    "      if(list[i] < list[i - 1]): # compare with the previous element\n",
    "          flag = 1\n",
    "      i += 1\n",
    "      \n",
    "  if (not flag) : \n",
    "      return True \n",
    "  else : \n",
    "      return False \n",
    "print(isSorted([1,2,3,4,5]))\n",
    "print(isSorted([1,2,5,4,2]))"
   ]
  },
  {
   "cell_type": "markdown",
   "metadata": {},
   "source": [
    "Challenge 5: Find Duplicates in a List:\n",
    "\n",
    "Input#\n",
    "A list\n",
    "\n",
    "Output#\n",
    "True if the list has duplicates and False otherwise"
   ]
  },
  {
   "cell_type": "code",
   "execution_count": null,
   "metadata": {},
   "outputs": [],
   "source": [
    "def hasDuplicates(list):\n",
    "  # write code here\n",
    "  output=False\n",
    "  for i in range (len(list)-1):\n",
    "    for j in range (i+1,len(list)-1):\n",
    "      if list[i]==list[j]:\n",
    "        output=True\n",
    "        break\n",
    "  return output"
   ]
  },
  {
   "cell_type": "code",
   "execution_count": null,
   "metadata": {},
   "outputs": [],
   "source": [
    "def has_duplicates(list):\n",
    "  flag = 0\n",
    "  for i in range (len(list)):\n",
    "    for j in range (i+1,len(list)):\n",
    "        if (list[i] == list[j]):\n",
    "          flag = 1\n",
    "  if (flag == 1): \n",
    "     return True\n",
    "  else:\n",
    "     return False\n",
    "  \n",
    "l=[1, 2, 3, 4, 5]  \n",
    "print(has_duplicates(l))\n",
    "l=[1, 2, 3, 3, 4]  \n",
    "print(has_duplicates(l)) "
   ]
  },
  {
   "cell_type": "markdown",
   "metadata": {},
   "source": [
    "Challenge 6: Print Even/Odd Numbers in Descending Order:\n",
    "\n",
    "Input#\n",
    "The input will be a number n. We have used n = 10 in the below output.\n",
    "\n",
    "Output#\n",
    "        Even number: 10\n",
    "        Odd number: 9\n",
    "        Even number: 8\n",
    "        Odd number: 7\n",
    "        Even number: 6\n",
    "        Odd number: 5\n",
    "        Even number: 4\n",
    "        Odd number: 3\n",
    "        Even number: 2\n",
    "        Odd number: 1"
   ]
  },
  {
   "cell_type": "code",
   "execution_count": null,
   "metadata": {},
   "outputs": [],
   "source": [
    "def printEvenOdd(n):\n",
    " while(n>=0):\n",
    "     if (n%2!=0):\n",
    "         print('Odd number:', n)\n",
    "         n = n-1\n",
    "     if (n%2==0):\n",
    "         print('Even number:', n)\n",
    "         n = n-1"
   ]
  },
  {
   "cell_type": "code",
   "execution_count": null,
   "metadata": {},
   "outputs": [],
   "source": [
    "def printEvenOdd(n):\n",
    "  while(n > 0):\n",
    "    if (n % 2 == 0):\n",
    "      print (\"Even number:\",n)\n",
    "    else:\n",
    "      print (\"Odd number:\",n)\n",
    "    n = n - 1 \n",
    "\n",
    "printEvenOdd(10)   "
   ]
  }
 ],
 "metadata": {
  "interpreter": {
   "hash": "49fdda9a8f1b43ecf94cbf6adfec0c9149aed4e40f425dad389976f3db3c5b4b"
  },
  "kernelspec": {
   "display_name": "Python 3.10.1 64-bit",
   "language": "python",
   "name": "python3"
  },
  "language_info": {
   "codemirror_mode": {
    "name": "ipython",
    "version": 3
   },
   "file_extension": ".py",
   "mimetype": "text/x-python",
   "name": "python",
   "nbconvert_exporter": "python",
   "pygments_lexer": "ipython3",
   "version": "3.10.1"
  },
  "orig_nbformat": 4
 },
 "nbformat": 4,
 "nbformat_minor": 2
}
