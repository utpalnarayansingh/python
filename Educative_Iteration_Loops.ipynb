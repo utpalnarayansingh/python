{
 "cells": [
  {
   "cell_type": "markdown",
   "metadata": {},
   "source": [
    "Input#\n",
    "A list\n",
    "\n",
    "Output#\n",
    "Sum of elements in the list"
   ]
  },
  {
   "cell_type": "code",
   "execution_count": null,
   "metadata": {},
   "outputs": [],
   "source": [
    "def sumList(l):\n",
    "    s=0\n",
    "    for i in range (len(l)):\n",
    "        s=s+l[i]\n",
    "    return s"
   ]
  }
 ],
 "metadata": {
  "language_info": {
   "name": "python"
  },
  "orig_nbformat": 4
 },
 "nbformat": 4,
 "nbformat_minor": 2
}
