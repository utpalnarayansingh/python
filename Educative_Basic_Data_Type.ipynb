{
 "cells": [
  {
   "cell_type": "markdown",
   "metadata": {},
   "source": [
    "(3 / 2)\n",
    "(3 // 2)\n",
    "(3 % 2)\n",
    "(3**2)"
   ]
  },
  {
   "cell_type": "code",
   "execution_count": 2,
   "metadata": {},
   "outputs": [
    {
     "name": "stdout",
     "output_type": "stream",
     "text": [
      "1.5 1 1 9\n"
     ]
    }
   ],
   "source": [
    "def MathOp():\n",
    "  a = 3/2\n",
    "  b = 3 // 2\n",
    "  c = 3 % 2\n",
    "  d = 3**2\n",
    "  return [ a, b, c, d]\n",
    "\n",
    "[a, b, c, d] = MathOp()\n",
    "print (a, b, c, d)"
   ]
  },
  {
   "cell_type": "code",
   "execution_count": 3,
   "metadata": {},
   "outputs": [
    {
     "name": "stdout",
     "output_type": "stream",
     "text": [
      "1.5\n",
      "1.0\n",
      "1\n",
      "9\n"
     ]
    }
   ],
   "source": [
    "def MathOp():\n",
    "  \n",
    "  classic_division = 3/2 ## Calculate 3/2 here\n",
    "  floor_division = 3//2.5 ## Calculate 3//2 here\n",
    "  modulus = 3%2 ## Calculate 3%2 here \n",
    "  power = 3**2 ## Calculate 3**2 here\n",
    "  ## Returning the calculations for evaluation\n",
    "  return [classic_division, floor_division, modulus, power]\n",
    "\n",
    "[classic_division, floor_division, modulus, power]=MathOp()\n",
    "print(classic_division)\n",
    "print(floor_division)\n",
    "print(modulus)\n",
    "print(power)"
   ]
  },
  {
   "cell_type": "markdown",
   "metadata": {},
   "source": [
    "Challenge 2: Check Parity of a Number"
   ]
  },
  {
   "cell_type": "code",
   "execution_count": null,
   "metadata": {},
   "outputs": [],
   "source": [
    "def checkParity(n):\n",
    "  result = n%2\n",
    "  return result"
   ]
  },
  {
   "cell_type": "code",
   "execution_count": null,
   "metadata": {},
   "outputs": [],
   "source": [
    "def checkParity(n):\n",
    "  result = (n % 2)\n",
    "  return result\n",
    "  \n",
    "print(\"Odd parity\", checkParity(17))\n",
    "print(\"Even parity\", checkParity(16))"
   ]
  },
  {
   "cell_type": "markdown",
   "metadata": {},
   "source": [
    "Challenge 3: Find Values Within a Range"
   ]
  },
  {
   "cell_type": "code",
   "execution_count": null,
   "metadata": {},
   "outputs": [],
   "source": [
    "def inRange(x, y):\n",
    "  \n",
    "  return (x < 1 / 3 < y)"
   ]
  },
  {
   "cell_type": "code",
   "execution_count": null,
   "metadata": {},
   "outputs": [],
   "source": [
    "def inRange(x, y):\n",
    "  return (x < 1/3 < y)\n",
    "\n",
    "print(inRange(-1, 3))\n",
    "print(inRange(2, 3))"
   ]
  },
  {
   "cell_type": "markdown",
   "metadata": {},
   "source": [
    "Challenge 4: String Transformation:\n",
    "\n",
    "Input#\n",
    "A string\n",
    "\n",
    "Output#\n",
    "Triple of every string literal"
   ]
  },
  {
   "cell_type": "code",
   "execution_count": null,
   "metadata": {},
   "outputs": [],
   "source": [
    "def getStr(s):\n",
    "  s=s[:1] + s[0] + s[1:]# Transform the string \n",
    "  s=s[:1] + s[0] + s[1:]\n",
    "  s=s[:3] + s[3] + s[3:]\n",
    "  s=s[:3] + s[3] + s[3:]\n",
    "  s=s[:6] + s[6] + s[6:]\n",
    "  s=s[:6] + s[6] + s[6:]\n",
    "  # Update the length of string\n",
    "  strlen = len(s)\n",
    "  return [s, strlen]\n",
    "\n",
    "print(getStr(\"abc\"))\n",
    "print(getStr(\"xyz\"))"
   ]
  },
  {
   "cell_type": "code",
   "execution_count": 5,
   "metadata": {},
   "outputs": [
    {
     "name": "stdout",
     "output_type": "stream",
     "text": [
      "['aaabbbccc', 9]\n",
      "['xxxyyyzzz', 9]\n"
     ]
    }
   ],
   "source": [
    "def getStr(s):\n",
    "  t=''\n",
    "  ## Write your code here\n",
    "  for i in range (3):\n",
    "    for j in range (3):\n",
    "      t = t + s[i]\n",
    "  ## Transform the string\n",
    "  ## Update length of string\n",
    "  strlen = len(t)\n",
    "  return [t, strlen]\n",
    "\n",
    "print(getStr(\"abc\"))\n",
    "print(getStr(\"xyz\"))"
   ]
  },
  {
   "cell_type": "markdown",
   "metadata": {},
   "source": [
    "Challenge 5: Find Index of a Specific Value in a String:\n",
    "\n",
    "Input#\n",
    "A string\n",
    "\n",
    "Output#\n",
    "The first occurrence of “b” and “ccc” in the string"
   ]
  },
  {
   "cell_type": "code",
   "execution_count": 6,
   "metadata": {},
   "outputs": [
    {
     "name": "stdout",
     "output_type": "stream",
     "text": [
      "[3, 5]\n"
     ]
    }
   ],
   "source": [
    "def findOccurence(s):\n",
    "  a=0\n",
    "  b=0\n",
    "  for i in range(0,len(s)):\n",
    "    if (s[i]==\"b\"):\n",
    "      a = i\n",
    "      break\n",
    "  for i in range(0,len(s)):\n",
    "    if (s[i] == \"c\" and s[i+1]==\"c\" and s[i+2]==\"c\"):\n",
    "      b=i\n",
    "      break\n",
    "  return [a, b]\n",
    "str = \"aaabbccc\"\n",
    "print(findOccurence(str))"
   ]
  },
  {
   "cell_type": "code",
   "execution_count": 7,
   "metadata": {},
   "outputs": [
    {
     "name": "stdout",
     "output_type": "stream",
     "text": [
      "[3, 5]\n"
     ]
    }
   ],
   "source": [
    "def findOccurence(s):\n",
    "  a = s.find(\"b\")#find first occurrence of \"b\" in the string \n",
    "  b = s.find(\"ccc\")#find first occurence  of \"ccc\" in the string\n",
    "  return [a, b]\n",
    "\n",
    "str = \"aaabbccc\"\n",
    "print(findOccurence(str))"
   ]
  },
  {
   "cell_type": "markdown",
   "metadata": {},
   "source": [
    "Challenge 6: Lowercase to Uppercase"
   ]
  },
  {
   "cell_type": "code",
   "execution_count": 9,
   "metadata": {},
   "outputs": [
    {
     "name": "stdout",
     "output_type": "stream",
     "text": [
      "['AAA BBB CCC', 'aaa bbb ccc']\n"
     ]
    }
   ],
   "source": [
    "def changeCase(s):\n",
    "      \n",
    "  a = s.upper() # convert string to \"AAA BBB CCC\"\n",
    "  b = s.lower() # convert string to \"aaa bbb ccc\"\n",
    "  return [a, b]\n",
    "\n",
    "str = \"AAA bbb CCC\"\n",
    "print(changeCase(str))"
   ]
  }
 ],
 "metadata": {
  "interpreter": {
   "hash": "49fdda9a8f1b43ecf94cbf6adfec0c9149aed4e40f425dad389976f3db3c5b4b"
  },
  "kernelspec": {
   "display_name": "Python 3.10.1 64-bit",
   "language": "python",
   "name": "python3"
  },
  "language_info": {
   "codemirror_mode": {
    "name": "ipython",
    "version": 3
   },
   "file_extension": ".py",
   "mimetype": "text/x-python",
   "name": "python",
   "nbconvert_exporter": "python",
   "pygments_lexer": "ipython3",
   "version": "3.10.1"
  },
  "orig_nbformat": 4
 },
 "nbformat": 4,
 "nbformat_minor": 2
}
